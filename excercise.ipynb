{
 "cells": [
  {
   "cell_type": "markdown",
   "id": "7aa5d80c",
   "metadata": {},
   "source": [
    "# Install the python libraries in requirements.txt to run"
   ]
  },
  {
   "cell_type": "code",
   "execution_count": 1,
   "id": "e4ebf9a4",
   "metadata": {},
   "outputs": [],
   "source": [
    "import matplotlib.pyplot as plt\n",
    "import pandas as pd\n",
    "import string\n",
    "from rapidfuzz import process, fuzz\n",
    "import numpy as np\n"
   ]
  },
  {
   "cell_type": "markdown",
   "id": "046b05e4",
   "metadata": {},
   "source": [
    "## Data cleaning"
   ]
  },
  {
   "cell_type": "code",
   "execution_count": null,
   "id": "b8fa1509",
   "metadata": {},
   "outputs": [],
   "source": [
    "# load and drop duplicate documents\n",
    "fake_df = pd.read_csv('real_fake_news/Fake.csv').drop_duplicates('text')\n",
    "real_df = pd.read_csv('real_fake_news/True.csv').drop_duplicates('text')"
   ]
  },
  {
   "cell_type": "code",
   "execution_count": 3,
   "id": "2a9de35b",
   "metadata": {},
   "outputs": [],
   "source": [
    "# strip punctuation, urls, spaces, and change to lower case, then remove duplicates again based on this\n",
    "fake_df['stripped'] = [''.join([s for s in t.lower().split() if 'http' not in s]).translate(str.maketrans('', '', string.punctuation)) for t in fake_df['text']]\n",
    "fake_df.drop_duplicates('stripped', inplace=True)\n",
    "real_df['stripped'] = [''.join([s for s in t.lower().split() if 'http' not in s]).translate(str.maketrans('', '', string.punctuation)) for t in real_df['text']]\n",
    "real_df.drop_duplicates('stripped', inplace=True)"
   ]
  },
  {
   "cell_type": "code",
   "execution_count": 4,
   "id": "2a8085e0",
   "metadata": {},
   "outputs": [],
   "source": [
    "# remove empty articles with no content (e.g. they just point to a video to watch or a tweet)\n",
    "fake_df = fake_df[fake_df['stripped'].apply(lambda s: len(s) > 100)]\n",
    "real_df = real_df[real_df['stripped'].apply(lambda s: len(s) > 100)]"
   ]
  },
  {
   "cell_type": "code",
   "execution_count": null,
   "id": "5c87cbee",
   "metadata": {},
   "outputs": [],
   "source": [
    "# take the start of each document and check the edit distance to other docs\n",
    "# this is a way to detect documents that are nearly duplicates\n",
    "fake_starts = [s[:500] for s in fake_df['stripped']]\n",
    "real_starts = [s[:500] for s in real_df['stripped']]\n",
    "fake_sims = process.cdist(fake_starts, fake_starts, workers=10, scorer=fuzz.QRatio)\n",
    "real_sims = process.cdist(real_starts, real_starts, workers=10, scorer=fuzz.QRatio)\n",
    "# from the plots we can see a number of documents that are early identical"
   ]
  },
  {
   "cell_type": "code",
   "execution_count": null,
   "id": "a2a374e0",
   "metadata": {},
   "outputs": [
    {
     "data": {
      "text/plain": [
       "Text(0.5, 1.0, 'real')"
      ]
     },
     "execution_count": 6,
     "metadata": {},
     "output_type": "execute_result"
    },
    {
     "data": {
      "image/png": "[encoded data removed]",
      "text/plain": [
       "<Figure size 640x480 with 1 Axes>"
      ]
     },
     "metadata": {},
     "output_type": "display_data"
    }
   ],
   "source": [
    "# plt.hist(real_sims[np.where(real_sims != 100)], bins=50)\n",
    "# plt.yscale('log')\n",
    "# plt.title('real')\n",
    "# strange gap between 0 and 20, no time to investigate"
   ]
  },
  {
   "cell_type": "code",
   "execution_count": null,
   "id": "07624e84",
   "metadata": {},
   "outputs": [
    {
     "data": {
      "text/plain": [
       "Text(0.5, 1.0, 'fake')"
      ]
     },
     "execution_count": 5,
     "metadata": {},
     "output_type": "execute_result"
    },
    {
     "data": {
      "image/png": "[encoded data removed]",
      "text/plain": [
       "<Figure size 640x480 with 1 Axes>"
      ]
     },
     "metadata": {},
     "output_type": "display_data"
    }
   ],
   "source": [
    "# plt.hist(fake_sims[np.where(fake_sims != 100)], bins=50)\n",
    "# plt.yscale('log')\n",
    "# plt.title('fake')"
   ]
  },
  {
   "cell_type": "code",
   "execution_count": null,
   "id": "3d50272b",
   "metadata": {},
   "outputs": [
    {
     "name": "stdout",
     "output_type": "stream",
     "text": [
      "real near dupes: 1016\n",
      "fake near dupes: 222\n"
     ]
    }
   ],
   "source": [
    "fake_near_dupes = np.where((fake_sims > 70) & (fake_sims !=100))\n",
    "real_near_dupes = np.where((real_sims > 70) & (real_sims !=100))\n",
    "\n",
    "print('real near dupes:', len(set(real_near_dupes[0].tolist() + real_near_dupes[1].tolist())))\n",
    "print('fake near dupes:', len(set(fake_near_dupes[0].tolist() + fake_near_dupes[1].tolist())))\n",
    "# we don't lose much good data even if some of these are not really duplicates, <5%\n",
    "# it's best to remove them to avoid double dipping"
   ]
  },
  {
   "cell_type": "code",
   "execution_count": 8,
   "id": "6b42cadf",
   "metadata": {},
   "outputs": [
    {
     "name": "stdout",
     "output_type": "stream",
     "text": [
      "The following statements were posted to the verified Twitter accounts of U.S. President Donald Trump, @realDonaldTrump and @POTUS.  The opinions expressed are his own. Reuters has not edited the statements or confirmed their accuracy.  @realDonaldTrump : - Together, we are MAKING AMERICA GREAT AGAIN! bit.ly/2lnpKaq [1814 EST] - In the East, it could be the COLDEST New Year’s Eve on record. Perhaps we could use a little bit of that good old Global Warming that our Country, but not other countries, was going to pay TRILLIONS OF DOLLARS to protect against. Bundle up! [1901 EST] -- Source link: (bit.ly/2jBh4LU) (bit.ly/2jpEXYR) \n",
      "The following statements were posted to the verified Twitter accounts of U.S. President Donald Trump, @realDonaldTrump and @POTUS.  The opinions expressed are his own. Reuters has not edited the statements or confirmed their accuracy.  @realDonaldTrump : - The Failing @nytimes, the pipe organ for the Democrat Party, has become a virtual lobbyist for them with regard to our massive Tax Cut Bill. They are wrong so often that now I know we have a winner! [0701 EST] -- Source link: (bit.ly/2jBh4LU) (bit.ly/2jpEXYR) \n"
     ]
    }
   ],
   "source": [
    "print(real_df.iloc[real_near_dupes[0][0]]['text'])\n",
    "print(real_df.iloc[real_near_dupes[1][0]]['text'])"
   ]
  },
  {
   "cell_type": "code",
   "execution_count": 9,
   "id": "cc60f878",
   "metadata": {},
   "outputs": [
    {
     "name": "stdout",
     "output_type": "stream",
     "text": [
      "Donald Trump is going to lose his shit if he reads this.Throughout the week, Trump has been viciously attacking Morning Joe host Mika Brzezinski is a disgusting display of unpresidential behavior that should get him declared unfit to hold office.I heard poorly rated @Morning_Joe speaks badly of me (don t watch anymore). Then how come low I.Q. Crazy Mika, along with Psycho Joe, came..  Donald J. Trump (@realDonaldTrump) June 29, 2017 to Mar-a-Lago 3 nights in a row around New Year s Eve, and insisted on joining me. She was bleeding badly from a face-lift. I said no!  Donald J. Trump (@realDonaldTrump) June 29, 2017Those tweets alone drew sharp condemnation nationwide from Democrats and Republicans alike. Trump s White House team pathetically attempted to defend him, but most Americans were sickened by his attacks.And then Trump attacked Brzezinski again yesterday.Crazy Joe Scarborough and dumb as a rock Mika are not bad people, but their low rated show is dominated by their NBC bosses. Too bad!  Donald J. Trump (@realDonaldTrump) July 1, 2017That tweet also received wide condemnation and Republicans are begging Trump to stop tweeting.But the best response to Trump s nasty tweets came from noted Jedi and voice of the Joker himself, Mark Hamill.UPDATE: Apparently it s #AttackLowRatedCableTVMorningShowHostsDay3(!) for those of you scoring at home. #UnpresidentedPresidentialPriorities https://t.co/H0TugDjHT6  Mark Hamill (@HamillHimself) July 1, 2017Their tax returns? https://t.co/WdRjrV88Oc  Mark Hamill (@HamillHimself) July 1, 2017Crazy and dumb as a rock  #POTUS  is not a bad person, but his low rated administration is dominated by his Russian bosses. Too Vlad! https://t.co/H0TugDjHT6  Mark Hamill (@HamillHimself) July 1, 2017Mark Hamill just humiliated Trump on Twitter and you can bet that Trump will whine about it if he hears about it.The next tweets Trump posts will be all about how Stars Wars is  failing  and how Hamill is a  bad  actor or something along those lines.Featured Image: Twitter\n",
      "If today on Fox News was any indication at all, Donald Trump may have finally gone too far, even for some of his base, when he tweeted this Thursday morning about Joe Scarborough and Mika Brzezinski:I heard poorly rated @Morning_Joe speaks badly of me (don t watch anymore). Then how come low I.Q. Crazy Mika, along with Psycho Joe, came..  Donald J. Trump (@realDonaldTrump) June 29, 2017 to Mar-a-Lago 3 nights in a row around New Year s Eve, and insisted on joining me. She was bleeding badly from a face-lift. I said no!  Donald J. Trump (@realDonaldTrump) June 29, 2017While his spokespeople have been working overtime defending the indefensible and sexist tweets, even Fox News thought it was over the top and even Fox News is beginning to see how much better we had it under President Obama.Scarborough and Brzezinski s network, MSNBC, along with CNN, was airing live remarks by Treasury Secretary Steven Mnuchin during a White House press briefing, but Fox uncharacteristically broke away to talk instead about the tweets with Republican National Committee chair Ronna Romney McDaniel:McDaniel defended the president, arguing that his tweets were a natural response to the constant criticism he receives from Brzezinski and co-host Joe Scarborough. Today, the president acted like a human, and he pushed back,  she said.Fox News anchor Julie Banderas wasn t buying the excuse. Listen,  she replied,  you don t need to stoop to the level, obviously. I don t care who you are. You don t stoop to the level of that. I mean that s like me scolding my 4-year-old for using a bad word and then me repeating it. That s just not how you run a country or you parent a 4-year-old. I mean I have to be honest, you know, if you see this negative commentary on a show, change the channel. Ignore it. I mean that s what I tell my kids: When somebody s mean to you, don t fight back. Just walk away. Source: Washington PostThat s not even the best part, Banderas, who s hardly a token liberal (just yesterday she blamed Democrats for the fact that Republicans can t pass Obamacare repeal), went on to compliment President Obama. People used to call President Obama stupid,  she said.  People used to call him a Muslim. People used to call him underqualified, a sellout to America, a hater of Israel. I mean they called him every name in the book, but you didn t see him lash out. No, you didn t. As Trump keeps embarrassing the Republican Party, you re going to see a lot more people distancing themselves.Featured image via Win McNamee/Getty Images\n"
     ]
    }
   ],
   "source": [
    "print(fake_df.iloc[fake_near_dupes[0][0]]['text'])\n",
    "print(fake_df.iloc[fake_near_dupes[1][0]]['text'])"
   ]
  },
  {
   "cell_type": "code",
   "execution_count": 7,
   "id": "10e32ee4",
   "metadata": {},
   "outputs": [],
   "source": [
    "near_dupes = zip(fake_near_dupes[0].tolist(), fake_near_dupes[1].tolist())\n",
    "deduped = set()\n",
    "to_remove = set()\n",
    "for pair in near_dupes:\n",
    "    deduped.add(pair[0]) # we remove all its dupes below, so we don't want to remove it\n",
    "    if pair[1] not in deduped:\n",
    "        to_remove.add(pair[1])\n",
    "\n",
    "fake_df.drop(fake_df.iloc[list(to_remove)].index, inplace=True)\n",
    "\n",
    "\n",
    "near_dupes = zip(real_near_dupes[0].tolist(), real_near_dupes[1].tolist())\n",
    "deduped = set()\n",
    "to_remove = set()\n",
    "for pair in near_dupes:\n",
    "    deduped.add(pair[0]) # we remove all its dupes below, so we don't want to remove it\n",
    "    if pair[1] not in deduped:\n",
    "        to_remove.add(pair[1])\n",
    "\n",
    "real_df.drop(real_df.iloc[list(to_remove)].index, inplace=True)"
   ]
  },
  {
   "cell_type": "code",
   "execution_count": 8,
   "id": "944031f5",
   "metadata": {},
   "outputs": [],
   "source": [
    "real_df.to_csv('real.csv')"
   ]
  },
  {
   "cell_type": "code",
   "execution_count": 9,
   "id": "fba21b1c",
   "metadata": {},
   "outputs": [],
   "source": [
    "fake_df.to_csv('fake.csv')"
   ]
  },
  {
   "cell_type": "code",
   "execution_count": 4,
   "id": "b5b81e14",
   "metadata": {},
   "outputs": [],
   "source": [
    "real_df = pd.read_csv('real.csv')\n",
    "fake_df = pd.read_csv('fake.csv')"
   ]
  },
  {
   "cell_type": "code",
   "execution_count": 36,
   "id": "20e54c71",
   "metadata": {},
   "outputs": [
    {
     "data": {
      "text/html": [
       "<div>\n",
       "<style scoped>\n",
       "    .dataframe tbody tr th:only-of-type {\n",
       "        vertical-align: middle;\n",
       "    }\n",
       "\n",
       "    .dataframe tbody tr th {\n",
       "        vertical-align: top;\n",
       "    }\n",
       "\n",
       "    .dataframe thead th {\n",
       "        text-align: right;\n",
       "    }\n",
       "</style>\n",
       "<table border=\"1\" class=\"dataframe\">\n",
       "  <thead>\n",
       "    <tr style=\"text-align: right;\">\n",
       "      <th></th>\n",
       "      <th>Unnamed: 0</th>\n",
       "      <th>title</th>\n",
       "      <th>text</th>\n",
       "      <th>subject</th>\n",
       "      <th>date</th>\n",
       "      <th>stripped</th>\n",
       "    </tr>\n",
       "  </thead>\n",
       "  <tbody>\n",
       "    <tr>\n",
       "      <th>0</th>\n",
       "      <td>0</td>\n",
       "      <td>Donald Trump Sends Out Embarrassing New Year’...</td>\n",
       "      <td>Donald Trump just couldn t wish all Americans ...</td>\n",
       "      <td>News</td>\n",
       "      <td>December 31, 2017</td>\n",
       "      <td>donaldtrumpjustcouldntwishallamericansahappyne...</td>\n",
       "    </tr>\n",
       "    <tr>\n",
       "      <th>1</th>\n",
       "      <td>1</td>\n",
       "      <td>Drunk Bragging Trump Staffer Started Russian ...</td>\n",
       "      <td>House Intelligence Committee Chairman Devin Nu...</td>\n",
       "      <td>News</td>\n",
       "      <td>December 31, 2017</td>\n",
       "      <td>houseintelligencecommitteechairmandevinnunesis...</td>\n",
       "    </tr>\n",
       "    <tr>\n",
       "      <th>2</th>\n",
       "      <td>2</td>\n",
       "      <td>Sheriff David Clarke Becomes An Internet Joke...</td>\n",
       "      <td>On Friday, it was revealed that former Milwauk...</td>\n",
       "      <td>News</td>\n",
       "      <td>December 30, 2017</td>\n",
       "      <td>onfridayitwasrevealedthatformermilwaukeesherif...</td>\n",
       "    </tr>\n",
       "    <tr>\n",
       "      <th>3</th>\n",
       "      <td>3</td>\n",
       "      <td>Trump Is So Obsessed He Even Has Obama’s Name...</td>\n",
       "      <td>On Christmas day, Donald Trump announced that ...</td>\n",
       "      <td>News</td>\n",
       "      <td>December 29, 2017</td>\n",
       "      <td>onchristmasdaydonaldtrumpannouncedthathewouldb...</td>\n",
       "    </tr>\n",
       "    <tr>\n",
       "      <th>4</th>\n",
       "      <td>4</td>\n",
       "      <td>Pope Francis Just Called Out Donald Trump Dur...</td>\n",
       "      <td>Pope Francis used his annual Christmas Day mes...</td>\n",
       "      <td>News</td>\n",
       "      <td>December 25, 2017</td>\n",
       "      <td>popefrancisusedhisannualchristmasdaymessagetor...</td>\n",
       "    </tr>\n",
       "    <tr>\n",
       "      <th>...</th>\n",
       "      <td>...</td>\n",
       "      <td>...</td>\n",
       "      <td>...</td>\n",
       "      <td>...</td>\n",
       "      <td>...</td>\n",
       "      <td>...</td>\n",
       "    </tr>\n",
       "    <tr>\n",
       "      <th>16864</th>\n",
       "      <td>22697</td>\n",
       "      <td>10 U.S. Navy Sailors Held by Iranian Military ...</td>\n",
       "      <td>21st Century Wire says As 21WIRE predicted in ...</td>\n",
       "      <td>US_News</td>\n",
       "      <td>January 12, 2016</td>\n",
       "      <td>21stcenturywiresaysas21wirepredictedinitsnewye...</td>\n",
       "    </tr>\n",
       "    <tr>\n",
       "      <th>16865</th>\n",
       "      <td>22698</td>\n",
       "      <td>The White House and The Theatrics of ‘Gun Cont...</td>\n",
       "      <td>21st Century Wire says All the world s a stage...</td>\n",
       "      <td>US_News</td>\n",
       "      <td>January 7, 2016</td>\n",
       "      <td>21stcenturywiresaysalltheworldsastageandallthe...</td>\n",
       "    </tr>\n",
       "    <tr>\n",
       "      <th>16866</th>\n",
       "      <td>22699</td>\n",
       "      <td>Activists or Terrorists? How Media Controls an...</td>\n",
       "      <td>Randy Johnson 21st Century WireThe majority ...</td>\n",
       "      <td>US_News</td>\n",
       "      <td>January 7, 2016</td>\n",
       "      <td>randyjohnson21stcenturywirethemajorityofmainst...</td>\n",
       "    </tr>\n",
       "    <tr>\n",
       "      <th>16867</th>\n",
       "      <td>22701</td>\n",
       "      <td>Federal Showdown Looms in Oregon After BLM Abu...</td>\n",
       "      <td>21st Century Wire says A new front has just op...</td>\n",
       "      <td>US_News</td>\n",
       "      <td>January 4, 2016</td>\n",
       "      <td>21stcenturywiresaysanewfronthasjustopenedupint...</td>\n",
       "    </tr>\n",
       "    <tr>\n",
       "      <th>16868</th>\n",
       "      <td>22702</td>\n",
       "      <td>A Troubled King: Chicago’s Rahm Emanuel Desper...</td>\n",
       "      <td>21st Century Wire says It s not that far away....</td>\n",
       "      <td>US_News</td>\n",
       "      <td>January 2, 2016</td>\n",
       "      <td>21stcenturywiresaysitsnotthatfarawayguesswhowa...</td>\n",
       "    </tr>\n",
       "  </tbody>\n",
       "</table>\n",
       "<p>16869 rows × 6 columns</p>\n",
       "</div>"
      ],
      "text/plain": [
       "       Unnamed: 0                                              title  \\\n",
       "0               0   Donald Trump Sends Out Embarrassing New Year’...   \n",
       "1               1   Drunk Bragging Trump Staffer Started Russian ...   \n",
       "2               2   Sheriff David Clarke Becomes An Internet Joke...   \n",
       "3               3   Trump Is So Obsessed He Even Has Obama’s Name...   \n",
       "4               4   Pope Francis Just Called Out Donald Trump Dur...   \n",
       "...           ...                                                ...   \n",
       "16864       22697  10 U.S. Navy Sailors Held by Iranian Military ...   \n",
       "16865       22698  The White House and The Theatrics of ‘Gun Cont...   \n",
       "16866       22699  Activists or Terrorists? How Media Controls an...   \n",
       "16867       22701  Federal Showdown Looms in Oregon After BLM Abu...   \n",
       "16868       22702  A Troubled King: Chicago’s Rahm Emanuel Desper...   \n",
       "\n",
       "                                                    text  subject  \\\n",
       "0      Donald Trump just couldn t wish all Americans ...     News   \n",
       "1      House Intelligence Committee Chairman Devin Nu...     News   \n",
       "2      On Friday, it was revealed that former Milwauk...     News   \n",
       "3      On Christmas day, Donald Trump announced that ...     News   \n",
       "4      Pope Francis used his annual Christmas Day mes...     News   \n",
       "...                                                  ...      ...   \n",
       "16864  21st Century Wire says As 21WIRE predicted in ...  US_News   \n",
       "16865  21st Century Wire says All the world s a stage...  US_News   \n",
       "16866    Randy Johnson 21st Century WireThe majority ...  US_News   \n",
       "16867  21st Century Wire says A new front has just op...  US_News   \n",
       "16868  21st Century Wire says It s not that far away....  US_News   \n",
       "\n",
       "                    date                                           stripped  \n",
       "0      December 31, 2017  donaldtrumpjustcouldntwishallamericansahappyne...  \n",
       "1      December 31, 2017  houseintelligencecommitteechairmandevinnunesis...  \n",
       "2      December 30, 2017  onfridayitwasrevealedthatformermilwaukeesherif...  \n",
       "3      December 29, 2017  onchristmasdaydonaldtrumpannouncedthathewouldb...  \n",
       "4      December 25, 2017  popefrancisusedhisannualchristmasdaymessagetor...  \n",
       "...                  ...                                                ...  \n",
       "16864   January 12, 2016  21stcenturywiresaysas21wirepredictedinitsnewye...  \n",
       "16865    January 7, 2016  21stcenturywiresaysalltheworldsastageandallthe...  \n",
       "16866    January 7, 2016  randyjohnson21stcenturywirethemajorityofmainst...  \n",
       "16867    January 4, 2016  21stcenturywiresaysanewfronthasjustopenedupint...  \n",
       "16868    January 2, 2016  21stcenturywiresaysitsnotthatfarawayguesswhowa...  \n",
       "\n",
       "[16869 rows x 6 columns]"
      ]
     },
     "execution_count": 36,
     "metadata": {},
     "output_type": "execute_result"
    }
   ],
   "source": [
    "fake_df"
   ]
  },
  {
   "cell_type": "markdown",
   "id": "771420ca",
   "metadata": {},
   "source": [
    "## Step 1 - Baseline"
   ]
  },
  {
   "cell_type": "code",
   "execution_count": 2,
   "id": "32213560",
   "metadata": {},
   "outputs": [],
   "source": [
    "from sklearn.feature_extraction.text import TfidfVectorizer\n",
    "from sklearn.preprocessing import OneHotEncoder\n",
    "from sklearn.model_selection import train_test_split\n",
    "from sklearn.svm import SVC\n",
    "from sklearn.metrics import accuracy_score, precision_recall_fscore_support\n"
   ]
  },
  {
   "cell_type": "code",
   "execution_count": 5,
   "id": "e1df95c7",
   "metadata": {},
   "outputs": [],
   "source": [
    "# start with word freqs as features: tf-idf\n",
    "fake_docs, real_docs = fake_df['text'].to_list(), real_df['text'].to_list()\n",
    "# we must limit the vocab size to ensure num features << num samples or we risk overfitting\n",
    "# to do this we set cut-off thresholds for rare and common words\n",
    "doc_vectorizer = TfidfVectorizer(min_df=.01, max_df=.9)\n",
    "docs_tf_idf = doc_vectorizer.fit_transform(fake_docs + real_docs)"
   ]
  },
  {
   "cell_type": "code",
   "execution_count": 6,
   "id": "12a289a0",
   "metadata": {},
   "outputs": [],
   "source": [
    "fake_titles, real_titles = fake_df['title'].to_list(), real_df['title'].to_list()\n",
    "title_vectorizer = TfidfVectorizer(min_df=.01, max_df=.9)\n",
    "titles_tf_idf = title_vectorizer.fit_transform(fake_titles + real_titles)"
   ]
  },
  {
   "cell_type": "code",
   "execution_count": null,
   "id": "bc7bdcca",
   "metadata": {},
   "outputs": [],
   "source": [
    "# make one hot feature for subject\n",
    "# I learn later that this feature is problematic, I don't use it in the end\n",
    "enc = OneHotEncoder()\n",
    "subject_feature = enc.fit_transform(np.array(fake_df['subject'].to_list() + real_df['subject'].to_list()).reshape(-1, 1))\n",
    "\n",
    "# process datetime --> not worth it: it has inconsistent formating and this is not a feature we want to rely on anyway (it doesn't generalize to future news)\n"
   ]
  },
  {
   "cell_type": "code",
   "execution_count": 7,
   "id": "02af0870",
   "metadata": {},
   "outputs": [
    {
     "data": {
      "text/plain": [
       "(37521, 3359)"
      ]
     },
     "execution_count": 7,
     "metadata": {},
     "output_type": "execute_result"
    }
   ],
   "source": [
    "# put features together\n",
    "features = np.hstack([titles_tf_idf.todense(), docs_tf_idf.todense()])#, subject_feature.todense()])\n",
    "labels = len(fake_docs) * [1] + len(real_docs) * [0]\n",
    "features.shape # we have an order of magnitude more samples than features, good for avoiding overfitting"
   ]
  },
  {
   "cell_type": "code",
   "execution_count": null,
   "id": "373210d4",
   "metadata": {},
   "outputs": [
    {
     "data": {
      "text/plain": [
       "0.5504117694091308"
      ]
     },
     "execution_count": 49,
     "metadata": {},
     "output_type": "execute_result"
    }
   ],
   "source": [
    "len(real_docs)/(len(fake_docs)+len(real_docs))\n",
    "# roughly balanced dataset, chance level accuracy:"
   ]
  },
  {
   "cell_type": "code",
   "execution_count": 8,
   "id": "e28aaa4c",
   "metadata": {},
   "outputs": [],
   "source": [
    "# 60 - 40 train-test split\n",
    "df = pd.DataFrame(features)\n",
    "df['label'] = labels\n",
    "train_df, test_df = train_test_split(df, test_size=0.4, random_state=421, stratify=df['label'])"
   ]
  },
  {
   "cell_type": "code",
   "execution_count": 9,
   "id": "3acdcaf4",
   "metadata": {},
   "outputs": [
    {
     "data": {
      "text/html": [
       "<style>#sk-container-id-1 {\n",
       "  /* Definition of color scheme common for light and dark mode */\n",
       "  --sklearn-color-text: #000;\n",
       "  --sklearn-color-text-muted: #666;\n",
       "  --sklearn-color-line: gray;\n",
       "  /* Definition of color scheme for unfitted estimators */\n",
       "  --sklearn-color-unfitted-level-0: #fff5e6;\n",
       "  --sklearn-color-unfitted-level-1: #f6e4d2;\n",
       "  --sklearn-color-unfitted-level-2: #ffe0b3;\n",
       "  --sklearn-color-unfitted-level-3: chocolate;\n",
       "  /* Definition of color scheme for fitted estimators */\n",
       "  --sklearn-color-fitted-level-0: #f0f8ff;\n",
       "  --sklearn-color-fitted-level-1: #d4ebff;\n",
       "  --sklearn-color-fitted-level-2: #b3dbfd;\n",
       "  --sklearn-color-fitted-level-3: cornflowerblue;\n",
       "\n",
       "  /* Specific color for light theme */\n",
       "  --sklearn-color-text-on-default-background: var(--sg-text-color, var(--theme-code-foreground, var(--jp-content-font-color1, black)));\n",
       "  --sklearn-color-background: var(--sg-background-color, var(--theme-background, var(--jp-layout-color0, white)));\n",
       "  --sklearn-color-border-box: var(--sg-text-color, var(--theme-code-foreground, var(--jp-content-font-color1, black)));\n",
       "  --sklearn-color-icon: #696969;\n",
       "\n",
       "  @media (prefers-color-scheme: dark) {\n",
       "    /* Redefinition of color scheme for dark theme */\n",
       "    --sklearn-color-text-on-default-background: var(--sg-text-color, var(--theme-code-foreground, var(--jp-content-font-color1, white)));\n",
       "    --sklearn-color-background: var(--sg-background-color, var(--theme-background, var(--jp-layout-color0, #111)));\n",
       "    --sklearn-color-border-box: var(--sg-text-color, var(--theme-code-foreground, var(--jp-content-font-color1, white)));\n",
       "    --sklearn-color-icon: #878787;\n",
       "  }\n",
       "}\n",
       "\n",
       "#sk-container-id-1 {\n",
       "  color: var(--sklearn-color-text);\n",
       "}\n",
       "\n",
       "#sk-container-id-1 pre {\n",
       "  padding: 0;\n",
       "}\n",
       "\n",
       "#sk-container-id-1 input.sk-hidden--visually {\n",
       "  border: 0;\n",
       "  clip: rect(1px 1px 1px 1px);\n",
       "  clip: rect(1px, 1px, 1px, 1px);\n",
       "  height: 1px;\n",
       "  margin: -1px;\n",
       "  overflow: hidden;\n",
       "  padding: 0;\n",
       "  position: absolute;\n",
       "  width: 1px;\n",
       "}\n",
       "\n",
       "#sk-container-id-1 div.sk-dashed-wrapped {\n",
       "  border: 1px dashed var(--sklearn-color-line);\n",
       "  margin: 0 0.4em 0.5em 0.4em;\n",
       "  box-sizing: border-box;\n",
       "  padding-bottom: 0.4em;\n",
       "  background-color: var(--sklearn-color-background);\n",
       "}\n",
       "\n",
       "#sk-container-id-1 div.sk-container {\n",
       "  /* jupyter's `normalize.less` sets `[hidden] { display: none; }`\n",
       "     but bootstrap.min.css set `[hidden] { display: none !important; }`\n",
       "     so we also need the `!important` here to be able to override the\n",
       "     default hidden behavior on the sphinx rendered scikit-learn.org.\n",
       "     See: https://github.com/scikit-learn/scikit-learn/issues/21755 */\n",
       "  display: inline-block !important;\n",
       "  position: relative;\n",
       "}\n",
       "\n",
       "#sk-container-id-1 div.sk-text-repr-fallback {\n",
       "  display: none;\n",
       "}\n",
       "\n",
       "div.sk-parallel-item,\n",
       "div.sk-serial,\n",
       "div.sk-item {\n",
       "  /* draw centered vertical line to link estimators */\n",
       "  background-image: linear-gradient(var(--sklearn-color-text-on-default-background), var(--sklearn-color-text-on-default-background));\n",
       "  background-size: 2px 100%;\n",
       "  background-repeat: no-repeat;\n",
       "  background-position: center center;\n",
       "}\n",
       "\n",
       "/* Parallel-specific style estimator block */\n",
       "\n",
       "#sk-container-id-1 div.sk-parallel-item::after {\n",
       "  content: \"\";\n",
       "  width: 100%;\n",
       "  border-bottom: 2px solid var(--sklearn-color-text-on-default-background);\n",
       "  flex-grow: 1;\n",
       "}\n",
       "\n",
       "#sk-container-id-1 div.sk-parallel {\n",
       "  display: flex;\n",
       "  align-items: stretch;\n",
       "  justify-content: center;\n",
       "  background-color: var(--sklearn-color-background);\n",
       "  position: relative;\n",
       "}\n",
       "\n",
       "#sk-container-id-1 div.sk-parallel-item {\n",
       "  display: flex;\n",
       "  flex-direction: column;\n",
       "}\n",
       "\n",
       "#sk-container-id-1 div.sk-parallel-item:first-child::after {\n",
       "  align-self: flex-end;\n",
       "  width: 50%;\n",
       "}\n",
       "\n",
       "#sk-container-id-1 div.sk-parallel-item:last-child::after {\n",
       "  align-self: flex-start;\n",
       "  width: 50%;\n",
       "}\n",
       "\n",
       "#sk-container-id-1 div.sk-parallel-item:only-child::after {\n",
       "  width: 0;\n",
       "}\n",
       "\n",
       "/* Serial-specific style estimator block */\n",
       "\n",
       "#sk-container-id-1 div.sk-serial {\n",
       "  display: flex;\n",
       "  flex-direction: column;\n",
       "  align-items: center;\n",
       "  background-color: var(--sklearn-color-background);\n",
       "  padding-right: 1em;\n",
       "  padding-left: 1em;\n",
       "}\n",
       "\n",
       "\n",
       "/* Toggleable style: style used for estimator/Pipeline/ColumnTransformer box that is\n",
       "clickable and can be expanded/collapsed.\n",
       "- Pipeline and ColumnTransformer use this feature and define the default style\n",
       "- Estimators will overwrite some part of the style using the `sk-estimator` class\n",
       "*/\n",
       "\n",
       "/* Pipeline and ColumnTransformer style (default) */\n",
       "\n",
       "#sk-container-id-1 div.sk-toggleable {\n",
       "  /* Default theme specific background. It is overwritten whether we have a\n",
       "  specific estimator or a Pipeline/ColumnTransformer */\n",
       "  background-color: var(--sklearn-color-background);\n",
       "}\n",
       "\n",
       "/* Toggleable label */\n",
       "#sk-container-id-1 label.sk-toggleable__label {\n",
       "  cursor: pointer;\n",
       "  display: flex;\n",
       "  width: 100%;\n",
       "  margin-bottom: 0;\n",
       "  padding: 0.5em;\n",
       "  box-sizing: border-box;\n",
       "  text-align: center;\n",
       "  align-items: start;\n",
       "  justify-content: space-between;\n",
       "  gap: 0.5em;\n",
       "}\n",
       "\n",
       "#sk-container-id-1 label.sk-toggleable__label .caption {\n",
       "  font-size: 0.6rem;\n",
       "  font-weight: lighter;\n",
       "  color: var(--sklearn-color-text-muted);\n",
       "}\n",
       "\n",
       "#sk-container-id-1 label.sk-toggleable__label-arrow:before {\n",
       "  /* Arrow on the left of the label */\n",
       "  content: \"▸\";\n",
       "  float: left;\n",
       "  margin-right: 0.25em;\n",
       "  color: var(--sklearn-color-icon);\n",
       "}\n",
       "\n",
       "#sk-container-id-1 label.sk-toggleable__label-arrow:hover:before {\n",
       "  color: var(--sklearn-color-text);\n",
       "}\n",
       "\n",
       "/* Toggleable content - dropdown */\n",
       "\n",
       "#sk-container-id-1 div.sk-toggleable__content {\n",
       "  max-height: 0;\n",
       "  max-width: 0;\n",
       "  overflow: hidden;\n",
       "  text-align: left;\n",
       "  /* unfitted */\n",
       "  background-color: var(--sklearn-color-unfitted-level-0);\n",
       "}\n",
       "\n",
       "#sk-container-id-1 div.sk-toggleable__content.fitted {\n",
       "  /* fitted */\n",
       "  background-color: var(--sklearn-color-fitted-level-0);\n",
       "}\n",
       "\n",
       "#sk-container-id-1 div.sk-toggleable__content pre {\n",
       "  margin: 0.2em;\n",
       "  border-radius: 0.25em;\n",
       "  color: var(--sklearn-color-text);\n",
       "  /* unfitted */\n",
       "  background-color: var(--sklearn-color-unfitted-level-0);\n",
       "}\n",
       "\n",
       "#sk-container-id-1 div.sk-toggleable__content.fitted pre {\n",
       "  /* unfitted */\n",
       "  background-color: var(--sklearn-color-fitted-level-0);\n",
       "}\n",
       "\n",
       "#sk-container-id-1 input.sk-toggleable__control:checked~div.sk-toggleable__content {\n",
       "  /* Expand drop-down */\n",
       "  max-height: 200px;\n",
       "  max-width: 100%;\n",
       "  overflow: auto;\n",
       "}\n",
       "\n",
       "#sk-container-id-1 input.sk-toggleable__control:checked~label.sk-toggleable__label-arrow:before {\n",
       "  content: \"▾\";\n",
       "}\n",
       "\n",
       "/* Pipeline/ColumnTransformer-specific style */\n",
       "\n",
       "#sk-container-id-1 div.sk-label input.sk-toggleable__control:checked~label.sk-toggleable__label {\n",
       "  color: var(--sklearn-color-text);\n",
       "  background-color: var(--sklearn-color-unfitted-level-2);\n",
       "}\n",
       "\n",
       "#sk-container-id-1 div.sk-label.fitted input.sk-toggleable__control:checked~label.sk-toggleable__label {\n",
       "  background-color: var(--sklearn-color-fitted-level-2);\n",
       "}\n",
       "\n",
       "/* Estimator-specific style */\n",
       "\n",
       "/* Colorize estimator box */\n",
       "#sk-container-id-1 div.sk-estimator input.sk-toggleable__control:checked~label.sk-toggleable__label {\n",
       "  /* unfitted */\n",
       "  background-color: var(--sklearn-color-unfitted-level-2);\n",
       "}\n",
       "\n",
       "#sk-container-id-1 div.sk-estimator.fitted input.sk-toggleable__control:checked~label.sk-toggleable__label {\n",
       "  /* fitted */\n",
       "  background-color: var(--sklearn-color-fitted-level-2);\n",
       "}\n",
       "\n",
       "#sk-container-id-1 div.sk-label label.sk-toggleable__label,\n",
       "#sk-container-id-1 div.sk-label label {\n",
       "  /* The background is the default theme color */\n",
       "  color: var(--sklearn-color-text-on-default-background);\n",
       "}\n",
       "\n",
       "/* On hover, darken the color of the background */\n",
       "#sk-container-id-1 div.sk-label:hover label.sk-toggleable__label {\n",
       "  color: var(--sklearn-color-text);\n",
       "  background-color: var(--sklearn-color-unfitted-level-2);\n",
       "}\n",
       "\n",
       "/* Label box, darken color on hover, fitted */\n",
       "#sk-container-id-1 div.sk-label.fitted:hover label.sk-toggleable__label.fitted {\n",
       "  color: var(--sklearn-color-text);\n",
       "  background-color: var(--sklearn-color-fitted-level-2);\n",
       "}\n",
       "\n",
       "/* Estimator label */\n",
       "\n",
       "#sk-container-id-1 div.sk-label label {\n",
       "  font-family: monospace;\n",
       "  font-weight: bold;\n",
       "  display: inline-block;\n",
       "  line-height: 1.2em;\n",
       "}\n",
       "\n",
       "#sk-container-id-1 div.sk-label-container {\n",
       "  text-align: center;\n",
       "}\n",
       "\n",
       "/* Estimator-specific */\n",
       "#sk-container-id-1 div.sk-estimator {\n",
       "  font-family: monospace;\n",
       "  border: 1px dotted var(--sklearn-color-border-box);\n",
       "  border-radius: 0.25em;\n",
       "  box-sizing: border-box;\n",
       "  margin-bottom: 0.5em;\n",
       "  /* unfitted */\n",
       "  background-color: var(--sklearn-color-unfitted-level-0);\n",
       "}\n",
       "\n",
       "#sk-container-id-1 div.sk-estimator.fitted {\n",
       "  /* fitted */\n",
       "  background-color: var(--sklearn-color-fitted-level-0);\n",
       "}\n",
       "\n",
       "/* on hover */\n",
       "#sk-container-id-1 div.sk-estimator:hover {\n",
       "  /* unfitted */\n",
       "  background-color: var(--sklearn-color-unfitted-level-2);\n",
       "}\n",
       "\n",
       "#sk-container-id-1 div.sk-estimator.fitted:hover {\n",
       "  /* fitted */\n",
       "  background-color: var(--sklearn-color-fitted-level-2);\n",
       "}\n",
       "\n",
       "/* Specification for estimator info (e.g. \"i\" and \"?\") */\n",
       "\n",
       "/* Common style for \"i\" and \"?\" */\n",
       "\n",
       ".sk-estimator-doc-link,\n",
       "a:link.sk-estimator-doc-link,\n",
       "a:visited.sk-estimator-doc-link {\n",
       "  float: right;\n",
       "  font-size: smaller;\n",
       "  line-height: 1em;\n",
       "  font-family: monospace;\n",
       "  background-color: var(--sklearn-color-background);\n",
       "  border-radius: 1em;\n",
       "  height: 1em;\n",
       "  width: 1em;\n",
       "  text-decoration: none !important;\n",
       "  margin-left: 0.5em;\n",
       "  text-align: center;\n",
       "  /* unfitted */\n",
       "  border: var(--sklearn-color-unfitted-level-1) 1pt solid;\n",
       "  color: var(--sklearn-color-unfitted-level-1);\n",
       "}\n",
       "\n",
       ".sk-estimator-doc-link.fitted,\n",
       "a:link.sk-estimator-doc-link.fitted,\n",
       "a:visited.sk-estimator-doc-link.fitted {\n",
       "  /* fitted */\n",
       "  border: var(--sklearn-color-fitted-level-1) 1pt solid;\n",
       "  color: var(--sklearn-color-fitted-level-1);\n",
       "}\n",
       "\n",
       "/* On hover */\n",
       "div.sk-estimator:hover .sk-estimator-doc-link:hover,\n",
       ".sk-estimator-doc-link:hover,\n",
       "div.sk-label-container:hover .sk-estimator-doc-link:hover,\n",
       ".sk-estimator-doc-link:hover {\n",
       "  /* unfitted */\n",
       "  background-color: var(--sklearn-color-unfitted-level-3);\n",
       "  color: var(--sklearn-color-background);\n",
       "  text-decoration: none;\n",
       "}\n",
       "\n",
       "div.sk-estimator.fitted:hover .sk-estimator-doc-link.fitted:hover,\n",
       ".sk-estimator-doc-link.fitted:hover,\n",
       "div.sk-label-container:hover .sk-estimator-doc-link.fitted:hover,\n",
       ".sk-estimator-doc-link.fitted:hover {\n",
       "  /* fitted */\n",
       "  background-color: var(--sklearn-color-fitted-level-3);\n",
       "  color: var(--sklearn-color-background);\n",
       "  text-decoration: none;\n",
       "}\n",
       "\n",
       "/* Span, style for the box shown on hovering the info icon */\n",
       ".sk-estimator-doc-link span {\n",
       "  display: none;\n",
       "  z-index: 9999;\n",
       "  position: relative;\n",
       "  font-weight: normal;\n",
       "  right: .2ex;\n",
       "  padding: .5ex;\n",
       "  margin: .5ex;\n",
       "  width: min-content;\n",
       "  min-width: 20ex;\n",
       "  max-width: 50ex;\n",
       "  color: var(--sklearn-color-text);\n",
       "  box-shadow: 2pt 2pt 4pt #999;\n",
       "  /* unfitted */\n",
       "  background: var(--sklearn-color-unfitted-level-0);\n",
       "  border: .5pt solid var(--sklearn-color-unfitted-level-3);\n",
       "}\n",
       "\n",
       ".sk-estimator-doc-link.fitted span {\n",
       "  /* fitted */\n",
       "  background: var(--sklearn-color-fitted-level-0);\n",
       "  border: var(--sklearn-color-fitted-level-3);\n",
       "}\n",
       "\n",
       ".sk-estimator-doc-link:hover span {\n",
       "  display: block;\n",
       "}\n",
       "\n",
       "/* \"?\"-specific style due to the `<a>` HTML tag */\n",
       "\n",
       "#sk-container-id-1 a.estimator_doc_link {\n",
       "  float: right;\n",
       "  font-size: 1rem;\n",
       "  line-height: 1em;\n",
       "  font-family: monospace;\n",
       "  background-color: var(--sklearn-color-background);\n",
       "  border-radius: 1rem;\n",
       "  height: 1rem;\n",
       "  width: 1rem;\n",
       "  text-decoration: none;\n",
       "  /* unfitted */\n",
       "  color: var(--sklearn-color-unfitted-level-1);\n",
       "  border: var(--sklearn-color-unfitted-level-1) 1pt solid;\n",
       "}\n",
       "\n",
       "#sk-container-id-1 a.estimator_doc_link.fitted {\n",
       "  /* fitted */\n",
       "  border: var(--sklearn-color-fitted-level-1) 1pt solid;\n",
       "  color: var(--sklearn-color-fitted-level-1);\n",
       "}\n",
       "\n",
       "/* On hover */\n",
       "#sk-container-id-1 a.estimator_doc_link:hover {\n",
       "  /* unfitted */\n",
       "  background-color: var(--sklearn-color-unfitted-level-3);\n",
       "  color: var(--sklearn-color-background);\n",
       "  text-decoration: none;\n",
       "}\n",
       "\n",
       "#sk-container-id-1 a.estimator_doc_link.fitted:hover {\n",
       "  /* fitted */\n",
       "  background-color: var(--sklearn-color-fitted-level-3);\n",
       "}\n",
       "</style><div id=\"sk-container-id-1\" class=\"sk-top-container\"><div class=\"sk-text-repr-fallback\"><pre>SVC(kernel=&#x27;linear&#x27;)</pre><b>In a Jupyter environment, please rerun this cell to show the HTML representation or trust the notebook. <br />On GitHub, the HTML representation is unable to render, please try loading this page with nbviewer.org.</b></div><div class=\"sk-container\" hidden><div class=\"sk-item\"><div class=\"sk-estimator fitted sk-toggleable\"><input class=\"sk-toggleable__control sk-hidden--visually\" id=\"sk-estimator-id-1\" type=\"checkbox\" checked><label for=\"sk-estimator-id-1\" class=\"sk-toggleable__label fitted sk-toggleable__label-arrow\"><div><div>SVC</div></div><div><a class=\"sk-estimator-doc-link fitted\" rel=\"noreferrer\" target=\"_blank\" href=\"https://scikit-learn.org/1.6/modules/generated/sklearn.svm.SVC.html\">?<span>Documentation for SVC</span></a><span class=\"sk-estimator-doc-link fitted\">i<span>Fitted</span></span></div></label><div class=\"sk-toggleable__content fitted\"><pre>SVC(kernel=&#x27;linear&#x27;)</pre></div> </div></div></div></div>"
      ],
      "text/plain": [
       "SVC(kernel='linear')"
      ]
     },
     "execution_count": 9,
     "metadata": {},
     "output_type": "execute_result"
    }
   ],
   "source": [
    "# train SVM (linear kernel)\n",
    "# I choose this model because the learned wieghts are easily accessed in order to show which features are most important\n",
    "# in my experience with word freqs, it also generalizes a bit better than other linear models -- the support vectors help in a sparse feature situation\n",
    "clf = SVC(kernel='linear')\n",
    "clf.fit(train_df[train_df.columns[:-1]], train_df['label']) # fit on all but the last column (labels)\n"
   ]
  },
  {
   "cell_type": "code",
   "execution_count": 21,
   "id": "1c423120",
   "metadata": {},
   "outputs": [],
   "source": [
    "def compute_metrics(predictions, labels):\n",
    "    precision, recall, f1, _ = precision_recall_fscore_support(labels, predictions, average='binary')\n",
    "    acc = accuracy_score(labels, predictions)\n",
    "    return {'accuracy': acc, 'f1': f1, 'precision': precision, 'recall': recall}"
   ]
  },
  {
   "cell_type": "code",
   "execution_count": 13,
   "id": "da07ec54",
   "metadata": {},
   "outputs": [
    {
     "data": {
      "text/plain": [
       "{'accuracy': 0.9981787491115849,\n",
       " 'f1': 0.9979738077588337,\n",
       " 'precision': 0.9983191615582361,\n",
       " 'recall': 0.9976286928169154}"
      ]
     },
     "execution_count": 13,
     "metadata": {},
     "output_type": "execute_result"
    }
   ],
   "source": [
    "# training metrics\n",
    "preds = clf.predict(train_df[train_df.columns[:-1]])\n",
    "compute_metrics(preds, train_df['label'])"
   ]
  },
  {
   "cell_type": "code",
   "execution_count": 14,
   "id": "e0964505",
   "metadata": {},
   "outputs": [
    {
     "data": {
      "text/plain": [
       "{'accuracy': 0.9944033579852088,\n",
       " 'f1': 0.9937648456057007,\n",
       " 'precision': 0.9955383700178465,\n",
       " 'recall': 0.9919976289270895}"
      ]
     },
     "execution_count": 14,
     "metadata": {},
     "output_type": "execute_result"
    }
   ],
   "source": [
    "# test metrics\n",
    "preds = clf.predict(test_df[test_df.columns[:-1]])\n",
    "compute_metrics(preds, test_df['label'])\n",
    "# the model is increadible!? this is too good to be true"
   ]
  },
  {
   "cell_type": "code",
   "execution_count": 11,
   "id": "e051cc4b",
   "metadata": {},
   "outputs": [],
   "source": [
    "# suspiciously high performance, let's look at the weights\n",
    "# get the indexes of the top largest amplitude (most important) weights \n",
    "sorted_indexes = np.argsort(np.abs(clf.coef_[0]))"
   ]
  },
  {
   "cell_type": "code",
   "execution_count": 17,
   "id": "6dc958d1",
   "metadata": {},
   "outputs": [
    {
     "data": {
      "text/plain": [
       "Text(0.5, 1.0, 'absolute value of the top 20 wieghts')"
      ]
     },
     "execution_count": 17,
     "metadata": {},
     "output_type": "execute_result"
    },
    {
     "data": {
      "image/png": "[encoded data removed]",
      "text/plain": [
       "<Figure size 640x480 with 1 Axes>"
      ]
     },
     "metadata": {},
     "output_type": "display_data"
    }
   ],
   "source": [
    "# top features\n",
    "plt.bar(list(range(20)), [abs(clf.coef_[0][i]) for i in sorted_indexes[-20:]])\n",
    "plt.xticks(list(range(20)))\n",
    "plt.title('absolute value of the top 20 wieghts')"
   ]
  },
  {
   "cell_type": "code",
   "execution_count": null,
   "id": "83f49618",
   "metadata": {},
   "outputs": [
    {
     "data": {
      "text/plain": [
       "array([2466, 2657, 3192, 2606])"
      ]
     },
     "execution_count": 18,
     "metadata": {},
     "output_type": "execute_result"
    }
   ],
   "source": [
    "# we can see the top 4 weights dominate, let's see what they correspond to\n",
    "sorted_indexes[-4:]"
   ]
  },
  {
   "cell_type": "code",
   "execution_count": 12,
   "id": "ee6d9dc4",
   "metadata": {},
   "outputs": [],
   "source": [
    "doc_vocab_map = {v: k for k, v in doc_vectorizer.vocabulary_.items()}"
   ]
  },
  {
   "cell_type": "code",
   "execution_count": 27,
   "id": "090db90a",
   "metadata": {},
   "outputs": [],
   "source": [
    "doc_vec_feature_indexes = sorted_indexes[-4:] - titles_tf_idf.shape[1]\n",
    "feature_names = [doc_vocab_map[i] for i in doc_vec_feature_indexes]"
   ]
  },
  {
   "cell_type": "code",
   "execution_count": 28,
   "id": "f5d12be0",
   "metadata": {},
   "outputs": [
    {
     "data": {
      "text/plain": [
       "Text(0.5, 1.0, 'weights of most important features')"
      ]
     },
     "execution_count": 28,
     "metadata": {},
     "output_type": "execute_result"
    },
    {
     "data": {
      "image/png": "[encoded data removed]",
      "text/plain": [
       "<Figure size 640x480 with 1 Axes>"
      ]
     },
     "metadata": {},
     "output_type": "display_data"
    }
   ],
   "source": [
    "plt.bar(feature_names, np.abs(clf.coef_[0][sorted_indexes[-4:]]))\n",
    "plt.title('weights of most important features')"
   ]
  },
  {
   "cell_type": "code",
   "execution_count": null,
   "id": "28bc37bc",
   "metadata": {},
   "outputs": [
    {
     "data": {
      "text/plain": [
       "Text(0.5, 1.0, 'mean tf-idf value of the top words in each dataset')"
      ]
     },
     "execution_count": 29,
     "metadata": {},
     "output_type": "execute_result"
    },
    {
     "data": {
      "image/png": "[encoded data removed]",
      "text/plain": [
       "<Figure size 640x480 with 1 Axes>"
      ]
     },
     "metadata": {},
     "output_type": "display_data"
    }
   ],
   "source": [
    "plt.bar(feature_names, [np.mean(docs_tf_idf[:len(fake_docs), i]) for i in doc_vec_feature_indexes], label='fake news dataset', alpha=.4)\n",
    "plt.bar(feature_names, [np.mean(docs_tf_idf[len(fake_docs):, i]) for i in doc_vec_feature_indexes], label='real real news dataset', alpha=.4)\n",
    "plt.legend()\n",
    "plt.ylabel('mean tf-idf value')\n",
    "plt.title('mean tf-idf value of the top words in each dataset')\n",
    "# we can see that the terms 'read' and 'via' are more frequent in fake news relative to their document frequency\n",
    "#  'said' and 'reauters' are more prevalent in real news\n",
    "# a bit like how humans work, the model has learnt that reuters is a trusted source. \n",
    "# This is not ideal as we would like to classify solely on the content: \n",
    "# conditions around the content could change in the future (e.g. reuters no longer reliable) and the model would have trouble generalizing."
   ]
  },
  {
   "cell_type": "code",
   "execution_count": 125,
   "id": "645d0017",
   "metadata": {},
   "outputs": [
    {
     "data": {
      "text/plain": [
       "array(['politicsNews', 'worldnews'], dtype=object)"
      ]
     },
     "execution_count": 125,
     "metadata": {},
     "output_type": "execute_result"
    }
   ],
   "source": [
    "real_df['subject'].unique()"
   ]
  },
  {
   "cell_type": "code",
   "execution_count": 126,
   "id": "2951b2d5",
   "metadata": {},
   "outputs": [
    {
     "data": {
      "text/plain": [
       "array(['News', 'politics', 'Government News', 'left-news', 'US_News'],\n",
       "      dtype=object)"
      ]
     },
     "execution_count": 126,
     "metadata": {},
     "output_type": "execute_result"
    }
   ],
   "source": [
    "fake_df['subject'].unique()"
   ]
  },
  {
   "cell_type": "markdown",
   "id": "28274d40",
   "metadata": {},
   "source": [
    "### The fake and real news datasets don't share the same subjects! of course classification is trivial in this case, a huge oversight\n",
    "I could rename the real news subjects to match the fake ones (politicsNews --> politics, worldnews --> News) but this would still leave categories that never appear in the real news, confounding results. Instead it is more appropriate to remove this feature entirely.\n",
    "\n",
    "The instructions indicate the dataset contains 3 domains: News, Politics, and Other, but this does not seem to be tha case. They could be grouped into news and politics, but there is no subject that corresponds to 'other'. The instructions say to measure performance stratified by domain, but given the confusion here I will abstain from doing so. In any case, the overall performance is (suspiciously) so good that we will likely see the same thing in stratified cases (if one strata had less than great performance, the overall performance would not be so good)."
   ]
  },
  {
   "cell_type": "markdown",
   "id": "d0900c48",
   "metadata": {},
   "source": [
    "## Step 2 - improvement\n",
    "There is little room left for improvement in terms of performance as we already have > .99 precision and recall. This is suspiciously good but I can't find any issues in my code. However we are using far more features than we need, I will reduce these here and then inspect them more closely to see if I'm doing something wrong."
   ]
  },
  {
   "cell_type": "code",
   "execution_count": 16,
   "id": "63be1f60",
   "metadata": {},
   "outputs": [
    {
     "data": {
      "text/plain": [
       "array([1974, 2559, 1835, 3272, 2330, 2560, 1696,  132, 2590, 1359, 2197,\n",
       "       2863,  533, 1068, 2006,   96, 2997, 2895,   45,  356, 1609, 3024,\n",
       "       2608,   52, 2988, 2000, 1892, 1570, 1817, 3155, 1569, 2806,  556,\n",
       "       1063,  846, 3069, 2136,  242,  387,  127, 2328, 1379, 2671, 1131,\n",
       "         63, 2485, 2433,  498,  773, 1196, 1869,  357, 3248, 1917, 1474,\n",
       "       2254, 3012, 2070, 2716, 3342, 3059, 2772, 3271, 1025, 2553, 1530,\n",
       "        181, 3304, 1591, 2555, 2557, 1170, 3033, 2812, 2626, 1330, 1747,\n",
       "       3265,  928,  180, 3122,  765, 2565, 3171,  589, 1439,   16, 2543,\n",
       "       3041, 3245, 2018, 2095, 1418,  128, 1590, 1281, 2466, 2657, 3192,\n",
       "       2606])"
      ]
     },
     "execution_count": 16,
     "metadata": {},
     "output_type": "execute_result"
    }
   ],
   "source": [
    "# take just the top 100 features\n",
    "sorted_indexes[-100:]"
   ]
  },
  {
   "cell_type": "code",
   "execution_count": 14,
   "id": "4d75bf4b",
   "metadata": {},
   "outputs": [],
   "source": [
    "title_vocab_map = {v: k for k, v in title_vectorizer.vocabulary_.items()}"
   ]
  },
  {
   "cell_type": "code",
   "execution_count": 15,
   "id": "33def311",
   "metadata": {},
   "outputs": [],
   "source": [
    "# map them to their corresponding words\n",
    "title_words = []\n",
    "doc_words = []\n",
    "for i in sorted_indexes[-100:]:\n",
    "    if i < titles_tf_idf.shape[1]: # then it is a word in the title\n",
    "        title_words.append(title_vocab_map[i])\n",
    "    else: # it is a word in the doc\n",
    "        doc_words.append(doc_vocab_map[i - titles_tf_idf.shape[1]])"
   ]
  },
  {
   "cell_type": "code",
   "execution_count": 16,
   "id": "aa95bc04",
   "metadata": {},
   "outputs": [
    {
     "data": {
      "text/plain": [
       "['watch', 'racist', 'gop', 'hillary', 'us', 'just', 'breaking', 'video']"
      ]
     },
     "execution_count": 16,
     "metadata": {},
     "output_type": "execute_result"
    }
   ],
   "source": [
    "# now the vocab size is small enough that I can manually go through and remove potentially problematic vocabulary\n",
    "title_words"
   ]
  },
  {
   "cell_type": "code",
   "execution_count": 17,
   "id": "43e15fa9",
   "metadata": {},
   "outputs": [
    {
     "data": {
      "text/plain": [
       "['militants',\n",
       " 'representative',\n",
       " 'liberal',\n",
       " 'went',\n",
       " 'press',\n",
       " 'representatives',\n",
       " 'isn',\n",
       " 'respond',\n",
       " 'former',\n",
       " 'paragraph',\n",
       " 'stand',\n",
       " 'below',\n",
       " 'doesn',\n",
       " 'morning',\n",
       " 'television',\n",
       " 'story',\n",
       " 'america',\n",
       " 'inc',\n",
       " 'that',\n",
       " 'revealed',\n",
       " 'taxpayer',\n",
       " 'money',\n",
       " 'mail',\n",
       " 'https',\n",
       " 'led',\n",
       " 'united',\n",
       " 'however',\n",
       " 'social',\n",
       " 'bit',\n",
       " 'dnc',\n",
       " 'continued',\n",
       " 'today',\n",
       " 'only',\n",
       " 'according',\n",
       " 'anyone',\n",
       " 'presidential',\n",
       " 'friday',\n",
       " 'saying',\n",
       " 'election',\n",
       " 'recently',\n",
       " 'questions',\n",
       " 'barack',\n",
       " 'comment',\n",
       " 'even',\n",
       " 'london',\n",
       " 'american',\n",
       " 'watch',\n",
       " 'market',\n",
       " 'had',\n",
       " 'pic',\n",
       " 'terror',\n",
       " 'newspaper',\n",
       " 'sen',\n",
       " 'xi',\n",
       " 'thursday',\n",
       " 'showed',\n",
       " 'well',\n",
       " 'didn',\n",
       " 'reportedly',\n",
       " 'hillary',\n",
       " '21wire',\n",
       " 'wire',\n",
       " 'images',\n",
       " 'reporters',\n",
       " 'reports',\n",
       " 'entire',\n",
       " 'these',\n",
       " 'some',\n",
       " 'rival',\n",
       " 'flickr',\n",
       " 'just',\n",
       " 'wednesday',\n",
       " 'daily',\n",
       " '21st',\n",
       " 'tuesday',\n",
       " 'com',\n",
       " 'republican',\n",
       " 'us',\n",
       " 'breitbart',\n",
       " 'gop',\n",
       " 'rep',\n",
       " 'this',\n",
       " 'washington',\n",
       " 'mr',\n",
       " 'nov',\n",
       " 'getty',\n",
       " 'image',\n",
       " 'featured',\n",
       " 'read',\n",
       " 'said',\n",
       " 'via',\n",
       " 'reuters']"
      ]
     },
     "execution_count": 17,
     "metadata": {},
     "output_type": "execute_result"
    }
   ],
   "source": [
    "doc_words"
   ]
  },
  {
   "cell_type": "code",
   "execution_count": 18,
   "id": "2e76dbd9",
   "metadata": {},
   "outputs": [],
   "source": [
    "# I decide to remove these terms that likely don't pertain to the content ex: daily mail is a newspaper\n",
    "doc_words = list(set(doc_words) - {'reuters', 'getty', 'washington', 'com', 'inc', 'daily', 'mail', 'flickr', '21wire'})"
   ]
  },
  {
   "cell_type": "code",
   "execution_count": 19,
   "id": "eff2a4df",
   "metadata": {},
   "outputs": [],
   "source": [
    "fake_docs, real_docs = fake_df['text'].to_list(), real_df['text'].to_list()\n",
    "doc_vectorizer = TfidfVectorizer(vocabulary=doc_words)\n",
    "docs_tf_idf = doc_vectorizer.fit_transform(fake_docs + real_docs)\n",
    "\n",
    "fake_titles, real_titles = fake_df['title'].to_list(), real_df['title'].to_list()\n",
    "title_vectorizer = TfidfVectorizer(vocabulary=title_words)\n",
    "titles_tf_idf = title_vectorizer.fit_transform(fake_titles + real_titles)"
   ]
  },
  {
   "cell_type": "code",
   "execution_count": 20,
   "id": "77d882d8",
   "metadata": {},
   "outputs": [
    {
     "data": {
      "text/plain": [
       "(37521, 91)"
      ]
     },
     "execution_count": 20,
     "metadata": {},
     "output_type": "execute_result"
    }
   ],
   "source": [
    "features = np.hstack([titles_tf_idf.todense(), docs_tf_idf.todense()])\n",
    "labels = len(fake_docs) * [1] + len(real_docs) * [0]\n",
    "features.shape"
   ]
  },
  {
   "cell_type": "code",
   "execution_count": 23,
   "id": "56647965",
   "metadata": {},
   "outputs": [],
   "source": [
    "# 60 - 40 train-test split\n",
    "df = pd.DataFrame(features)\n",
    "df['label'] = labels\n",
    "train_df, test_df = train_test_split(df, test_size=0.4, random_state=42, stratify=df['label'])"
   ]
  },
  {
   "cell_type": "code",
   "execution_count": 24,
   "id": "b69d9129",
   "metadata": {},
   "outputs": [
    {
     "data": {
      "text/html": [
       "<style>#sk-container-id-2 {\n",
       "  /* Definition of color scheme common for light and dark mode */\n",
       "  --sklearn-color-text: #000;\n",
       "  --sklearn-color-text-muted: #666;\n",
       "  --sklearn-color-line: gray;\n",
       "  /* Definition of color scheme for unfitted estimators */\n",
       "  --sklearn-color-unfitted-level-0: #fff5e6;\n",
       "  --sklearn-color-unfitted-level-1: #f6e4d2;\n",
       "  --sklearn-color-unfitted-level-2: #ffe0b3;\n",
       "  --sklearn-color-unfitted-level-3: chocolate;\n",
       "  /* Definition of color scheme for fitted estimators */\n",
       "  --sklearn-color-fitted-level-0: #f0f8ff;\n",
       "  --sklearn-color-fitted-level-1: #d4ebff;\n",
       "  --sklearn-color-fitted-level-2: #b3dbfd;\n",
       "  --sklearn-color-fitted-level-3: cornflowerblue;\n",
       "\n",
       "  /* Specific color for light theme */\n",
       "  --sklearn-color-text-on-default-background: var(--sg-text-color, var(--theme-code-foreground, var(--jp-content-font-color1, black)));\n",
       "  --sklearn-color-background: var(--sg-background-color, var(--theme-background, var(--jp-layout-color0, white)));\n",
       "  --sklearn-color-border-box: var(--sg-text-color, var(--theme-code-foreground, var(--jp-content-font-color1, black)));\n",
       "  --sklearn-color-icon: #696969;\n",
       "\n",
       "  @media (prefers-color-scheme: dark) {\n",
       "    /* Redefinition of color scheme for dark theme */\n",
       "    --sklearn-color-text-on-default-background: var(--sg-text-color, var(--theme-code-foreground, var(--jp-content-font-color1, white)));\n",
       "    --sklearn-color-background: var(--sg-background-color, var(--theme-background, var(--jp-layout-color0, #111)));\n",
       "    --sklearn-color-border-box: var(--sg-text-color, var(--theme-code-foreground, var(--jp-content-font-color1, white)));\n",
       "    --sklearn-color-icon: #878787;\n",
       "  }\n",
       "}\n",
       "\n",
       "#sk-container-id-2 {\n",
       "  color: var(--sklearn-color-text);\n",
       "}\n",
       "\n",
       "#sk-container-id-2 pre {\n",
       "  padding: 0;\n",
       "}\n",
       "\n",
       "#sk-container-id-2 input.sk-hidden--visually {\n",
       "  border: 0;\n",
       "  clip: rect(1px 1px 1px 1px);\n",
       "  clip: rect(1px, 1px, 1px, 1px);\n",
       "  height: 1px;\n",
       "  margin: -1px;\n",
       "  overflow: hidden;\n",
       "  padding: 0;\n",
       "  position: absolute;\n",
       "  width: 1px;\n",
       "}\n",
       "\n",
       "#sk-container-id-2 div.sk-dashed-wrapped {\n",
       "  border: 1px dashed var(--sklearn-color-line);\n",
       "  margin: 0 0.4em 0.5em 0.4em;\n",
       "  box-sizing: border-box;\n",
       "  padding-bottom: 0.4em;\n",
       "  background-color: var(--sklearn-color-background);\n",
       "}\n",
       "\n",
       "#sk-container-id-2 div.sk-container {\n",
       "  /* jupyter's `normalize.less` sets `[hidden] { display: none; }`\n",
       "     but bootstrap.min.css set `[hidden] { display: none !important; }`\n",
       "     so we also need the `!important` here to be able to override the\n",
       "     default hidden behavior on the sphinx rendered scikit-learn.org.\n",
       "     See: https://github.com/scikit-learn/scikit-learn/issues/21755 */\n",
       "  display: inline-block !important;\n",
       "  position: relative;\n",
       "}\n",
       "\n",
       "#sk-container-id-2 div.sk-text-repr-fallback {\n",
       "  display: none;\n",
       "}\n",
       "\n",
       "div.sk-parallel-item,\n",
       "div.sk-serial,\n",
       "div.sk-item {\n",
       "  /* draw centered vertical line to link estimators */\n",
       "  background-image: linear-gradient(var(--sklearn-color-text-on-default-background), var(--sklearn-color-text-on-default-background));\n",
       "  background-size: 2px 100%;\n",
       "  background-repeat: no-repeat;\n",
       "  background-position: center center;\n",
       "}\n",
       "\n",
       "/* Parallel-specific style estimator block */\n",
       "\n",
       "#sk-container-id-2 div.sk-parallel-item::after {\n",
       "  content: \"\";\n",
       "  width: 100%;\n",
       "  border-bottom: 2px solid var(--sklearn-color-text-on-default-background);\n",
       "  flex-grow: 1;\n",
       "}\n",
       "\n",
       "#sk-container-id-2 div.sk-parallel {\n",
       "  display: flex;\n",
       "  align-items: stretch;\n",
       "  justify-content: center;\n",
       "  background-color: var(--sklearn-color-background);\n",
       "  position: relative;\n",
       "}\n",
       "\n",
       "#sk-container-id-2 div.sk-parallel-item {\n",
       "  display: flex;\n",
       "  flex-direction: column;\n",
       "}\n",
       "\n",
       "#sk-container-id-2 div.sk-parallel-item:first-child::after {\n",
       "  align-self: flex-end;\n",
       "  width: 50%;\n",
       "}\n",
       "\n",
       "#sk-container-id-2 div.sk-parallel-item:last-child::after {\n",
       "  align-self: flex-start;\n",
       "  width: 50%;\n",
       "}\n",
       "\n",
       "#sk-container-id-2 div.sk-parallel-item:only-child::after {\n",
       "  width: 0;\n",
       "}\n",
       "\n",
       "/* Serial-specific style estimator block */\n",
       "\n",
       "#sk-container-id-2 div.sk-serial {\n",
       "  display: flex;\n",
       "  flex-direction: column;\n",
       "  align-items: center;\n",
       "  background-color: var(--sklearn-color-background);\n",
       "  padding-right: 1em;\n",
       "  padding-left: 1em;\n",
       "}\n",
       "\n",
       "\n",
       "/* Toggleable style: style used for estimator/Pipeline/ColumnTransformer box that is\n",
       "clickable and can be expanded/collapsed.\n",
       "- Pipeline and ColumnTransformer use this feature and define the default style\n",
       "- Estimators will overwrite some part of the style using the `sk-estimator` class\n",
       "*/\n",
       "\n",
       "/* Pipeline and ColumnTransformer style (default) */\n",
       "\n",
       "#sk-container-id-2 div.sk-toggleable {\n",
       "  /* Default theme specific background. It is overwritten whether we have a\n",
       "  specific estimator or a Pipeline/ColumnTransformer */\n",
       "  background-color: var(--sklearn-color-background);\n",
       "}\n",
       "\n",
       "/* Toggleable label */\n",
       "#sk-container-id-2 label.sk-toggleable__label {\n",
       "  cursor: pointer;\n",
       "  display: flex;\n",
       "  width: 100%;\n",
       "  margin-bottom: 0;\n",
       "  padding: 0.5em;\n",
       "  box-sizing: border-box;\n",
       "  text-align: center;\n",
       "  align-items: start;\n",
       "  justify-content: space-between;\n",
       "  gap: 0.5em;\n",
       "}\n",
       "\n",
       "#sk-container-id-2 label.sk-toggleable__label .caption {\n",
       "  font-size: 0.6rem;\n",
       "  font-weight: lighter;\n",
       "  color: var(--sklearn-color-text-muted);\n",
       "}\n",
       "\n",
       "#sk-container-id-2 label.sk-toggleable__label-arrow:before {\n",
       "  /* Arrow on the left of the label */\n",
       "  content: \"▸\";\n",
       "  float: left;\n",
       "  margin-right: 0.25em;\n",
       "  color: var(--sklearn-color-icon);\n",
       "}\n",
       "\n",
       "#sk-container-id-2 label.sk-toggleable__label-arrow:hover:before {\n",
       "  color: var(--sklearn-color-text);\n",
       "}\n",
       "\n",
       "/* Toggleable content - dropdown */\n",
       "\n",
       "#sk-container-id-2 div.sk-toggleable__content {\n",
       "  max-height: 0;\n",
       "  max-width: 0;\n",
       "  overflow: hidden;\n",
       "  text-align: left;\n",
       "  /* unfitted */\n",
       "  background-color: var(--sklearn-color-unfitted-level-0);\n",
       "}\n",
       "\n",
       "#sk-container-id-2 div.sk-toggleable__content.fitted {\n",
       "  /* fitted */\n",
       "  background-color: var(--sklearn-color-fitted-level-0);\n",
       "}\n",
       "\n",
       "#sk-container-id-2 div.sk-toggleable__content pre {\n",
       "  margin: 0.2em;\n",
       "  border-radius: 0.25em;\n",
       "  color: var(--sklearn-color-text);\n",
       "  /* unfitted */\n",
       "  background-color: var(--sklearn-color-unfitted-level-0);\n",
       "}\n",
       "\n",
       "#sk-container-id-2 div.sk-toggleable__content.fitted pre {\n",
       "  /* unfitted */\n",
       "  background-color: var(--sklearn-color-fitted-level-0);\n",
       "}\n",
       "\n",
       "#sk-container-id-2 input.sk-toggleable__control:checked~div.sk-toggleable__content {\n",
       "  /* Expand drop-down */\n",
       "  max-height: 200px;\n",
       "  max-width: 100%;\n",
       "  overflow: auto;\n",
       "}\n",
       "\n",
       "#sk-container-id-2 input.sk-toggleable__control:checked~label.sk-toggleable__label-arrow:before {\n",
       "  content: \"▾\";\n",
       "}\n",
       "\n",
       "/* Pipeline/ColumnTransformer-specific style */\n",
       "\n",
       "#sk-container-id-2 div.sk-label input.sk-toggleable__control:checked~label.sk-toggleable__label {\n",
       "  color: var(--sklearn-color-text);\n",
       "  background-color: var(--sklearn-color-unfitted-level-2);\n",
       "}\n",
       "\n",
       "#sk-container-id-2 div.sk-label.fitted input.sk-toggleable__control:checked~label.sk-toggleable__label {\n",
       "  background-color: var(--sklearn-color-fitted-level-2);\n",
       "}\n",
       "\n",
       "/* Estimator-specific style */\n",
       "\n",
       "/* Colorize estimator box */\n",
       "#sk-container-id-2 div.sk-estimator input.sk-toggleable__control:checked~label.sk-toggleable__label {\n",
       "  /* unfitted */\n",
       "  background-color: var(--sklearn-color-unfitted-level-2);\n",
       "}\n",
       "\n",
       "#sk-container-id-2 div.sk-estimator.fitted input.sk-toggleable__control:checked~label.sk-toggleable__label {\n",
       "  /* fitted */\n",
       "  background-color: var(--sklearn-color-fitted-level-2);\n",
       "}\n",
       "\n",
       "#sk-container-id-2 div.sk-label label.sk-toggleable__label,\n",
       "#sk-container-id-2 div.sk-label label {\n",
       "  /* The background is the default theme color */\n",
       "  color: var(--sklearn-color-text-on-default-background);\n",
       "}\n",
       "\n",
       "/* On hover, darken the color of the background */\n",
       "#sk-container-id-2 div.sk-label:hover label.sk-toggleable__label {\n",
       "  color: var(--sklearn-color-text);\n",
       "  background-color: var(--sklearn-color-unfitted-level-2);\n",
       "}\n",
       "\n",
       "/* Label box, darken color on hover, fitted */\n",
       "#sk-container-id-2 div.sk-label.fitted:hover label.sk-toggleable__label.fitted {\n",
       "  color: var(--sklearn-color-text);\n",
       "  background-color: var(--sklearn-color-fitted-level-2);\n",
       "}\n",
       "\n",
       "/* Estimator label */\n",
       "\n",
       "#sk-container-id-2 div.sk-label label {\n",
       "  font-family: monospace;\n",
       "  font-weight: bold;\n",
       "  display: inline-block;\n",
       "  line-height: 1.2em;\n",
       "}\n",
       "\n",
       "#sk-container-id-2 div.sk-label-container {\n",
       "  text-align: center;\n",
       "}\n",
       "\n",
       "/* Estimator-specific */\n",
       "#sk-container-id-2 div.sk-estimator {\n",
       "  font-family: monospace;\n",
       "  border: 1px dotted var(--sklearn-color-border-box);\n",
       "  border-radius: 0.25em;\n",
       "  box-sizing: border-box;\n",
       "  margin-bottom: 0.5em;\n",
       "  /* unfitted */\n",
       "  background-color: var(--sklearn-color-unfitted-level-0);\n",
       "}\n",
       "\n",
       "#sk-container-id-2 div.sk-estimator.fitted {\n",
       "  /* fitted */\n",
       "  background-color: var(--sklearn-color-fitted-level-0);\n",
       "}\n",
       "\n",
       "/* on hover */\n",
       "#sk-container-id-2 div.sk-estimator:hover {\n",
       "  /* unfitted */\n",
       "  background-color: var(--sklearn-color-unfitted-level-2);\n",
       "}\n",
       "\n",
       "#sk-container-id-2 div.sk-estimator.fitted:hover {\n",
       "  /* fitted */\n",
       "  background-color: var(--sklearn-color-fitted-level-2);\n",
       "}\n",
       "\n",
       "/* Specification for estimator info (e.g. \"i\" and \"?\") */\n",
       "\n",
       "/* Common style for \"i\" and \"?\" */\n",
       "\n",
       ".sk-estimator-doc-link,\n",
       "a:link.sk-estimator-doc-link,\n",
       "a:visited.sk-estimator-doc-link {\n",
       "  float: right;\n",
       "  font-size: smaller;\n",
       "  line-height: 1em;\n",
       "  font-family: monospace;\n",
       "  background-color: var(--sklearn-color-background);\n",
       "  border-radius: 1em;\n",
       "  height: 1em;\n",
       "  width: 1em;\n",
       "  text-decoration: none !important;\n",
       "  margin-left: 0.5em;\n",
       "  text-align: center;\n",
       "  /* unfitted */\n",
       "  border: var(--sklearn-color-unfitted-level-1) 1pt solid;\n",
       "  color: var(--sklearn-color-unfitted-level-1);\n",
       "}\n",
       "\n",
       ".sk-estimator-doc-link.fitted,\n",
       "a:link.sk-estimator-doc-link.fitted,\n",
       "a:visited.sk-estimator-doc-link.fitted {\n",
       "  /* fitted */\n",
       "  border: var(--sklearn-color-fitted-level-1) 1pt solid;\n",
       "  color: var(--sklearn-color-fitted-level-1);\n",
       "}\n",
       "\n",
       "/* On hover */\n",
       "div.sk-estimator:hover .sk-estimator-doc-link:hover,\n",
       ".sk-estimator-doc-link:hover,\n",
       "div.sk-label-container:hover .sk-estimator-doc-link:hover,\n",
       ".sk-estimator-doc-link:hover {\n",
       "  /* unfitted */\n",
       "  background-color: var(--sklearn-color-unfitted-level-3);\n",
       "  color: var(--sklearn-color-background);\n",
       "  text-decoration: none;\n",
       "}\n",
       "\n",
       "div.sk-estimator.fitted:hover .sk-estimator-doc-link.fitted:hover,\n",
       ".sk-estimator-doc-link.fitted:hover,\n",
       "div.sk-label-container:hover .sk-estimator-doc-link.fitted:hover,\n",
       ".sk-estimator-doc-link.fitted:hover {\n",
       "  /* fitted */\n",
       "  background-color: var(--sklearn-color-fitted-level-3);\n",
       "  color: var(--sklearn-color-background);\n",
       "  text-decoration: none;\n",
       "}\n",
       "\n",
       "/* Span, style for the box shown on hovering the info icon */\n",
       ".sk-estimator-doc-link span {\n",
       "  display: none;\n",
       "  z-index: 9999;\n",
       "  position: relative;\n",
       "  font-weight: normal;\n",
       "  right: .2ex;\n",
       "  padding: .5ex;\n",
       "  margin: .5ex;\n",
       "  width: min-content;\n",
       "  min-width: 20ex;\n",
       "  max-width: 50ex;\n",
       "  color: var(--sklearn-color-text);\n",
       "  box-shadow: 2pt 2pt 4pt #999;\n",
       "  /* unfitted */\n",
       "  background: var(--sklearn-color-unfitted-level-0);\n",
       "  border: .5pt solid var(--sklearn-color-unfitted-level-3);\n",
       "}\n",
       "\n",
       ".sk-estimator-doc-link.fitted span {\n",
       "  /* fitted */\n",
       "  background: var(--sklearn-color-fitted-level-0);\n",
       "  border: var(--sklearn-color-fitted-level-3);\n",
       "}\n",
       "\n",
       ".sk-estimator-doc-link:hover span {\n",
       "  display: block;\n",
       "}\n",
       "\n",
       "/* \"?\"-specific style due to the `<a>` HTML tag */\n",
       "\n",
       "#sk-container-id-2 a.estimator_doc_link {\n",
       "  float: right;\n",
       "  font-size: 1rem;\n",
       "  line-height: 1em;\n",
       "  font-family: monospace;\n",
       "  background-color: var(--sklearn-color-background);\n",
       "  border-radius: 1rem;\n",
       "  height: 1rem;\n",
       "  width: 1rem;\n",
       "  text-decoration: none;\n",
       "  /* unfitted */\n",
       "  color: var(--sklearn-color-unfitted-level-1);\n",
       "  border: var(--sklearn-color-unfitted-level-1) 1pt solid;\n",
       "}\n",
       "\n",
       "#sk-container-id-2 a.estimator_doc_link.fitted {\n",
       "  /* fitted */\n",
       "  border: var(--sklearn-color-fitted-level-1) 1pt solid;\n",
       "  color: var(--sklearn-color-fitted-level-1);\n",
       "}\n",
       "\n",
       "/* On hover */\n",
       "#sk-container-id-2 a.estimator_doc_link:hover {\n",
       "  /* unfitted */\n",
       "  background-color: var(--sklearn-color-unfitted-level-3);\n",
       "  color: var(--sklearn-color-background);\n",
       "  text-decoration: none;\n",
       "}\n",
       "\n",
       "#sk-container-id-2 a.estimator_doc_link.fitted:hover {\n",
       "  /* fitted */\n",
       "  background-color: var(--sklearn-color-fitted-level-3);\n",
       "}\n",
       "</style><div id=\"sk-container-id-2\" class=\"sk-top-container\"><div class=\"sk-text-repr-fallback\"><pre>SVC(kernel=&#x27;linear&#x27;)</pre><b>In a Jupyter environment, please rerun this cell to show the HTML representation or trust the notebook. <br />On GitHub, the HTML representation is unable to render, please try loading this page with nbviewer.org.</b></div><div class=\"sk-container\" hidden><div class=\"sk-item\"><div class=\"sk-estimator fitted sk-toggleable\"><input class=\"sk-toggleable__control sk-hidden--visually\" id=\"sk-estimator-id-2\" type=\"checkbox\" checked><label for=\"sk-estimator-id-2\" class=\"sk-toggleable__label fitted sk-toggleable__label-arrow\"><div><div>SVC</div></div><div><a class=\"sk-estimator-doc-link fitted\" rel=\"noreferrer\" target=\"_blank\" href=\"https://scikit-learn.org/1.6/modules/generated/sklearn.svm.SVC.html\">?<span>Documentation for SVC</span></a><span class=\"sk-estimator-doc-link fitted\">i<span>Fitted</span></span></div></label><div class=\"sk-toggleable__content fitted\"><pre>SVC(kernel=&#x27;linear&#x27;)</pre></div> </div></div></div></div>"
      ],
      "text/plain": [
       "SVC(kernel='linear')"
      ]
     },
     "execution_count": 24,
     "metadata": {},
     "output_type": "execute_result"
    }
   ],
   "source": [
    "clf = SVC(kernel='linear')\n",
    "clf.fit(train_df[train_df.columns[:-1]], train_df['label'])"
   ]
  },
  {
   "cell_type": "code",
   "execution_count": 25,
   "id": "c7ac3614",
   "metadata": {},
   "outputs": [
    {
     "data": {
      "text/plain": [
       "{'accuracy': 0.9810323383084577,\n",
       " 'f1': 0.9788204950151282,\n",
       " 'precision': 0.9827689243027888,\n",
       " 'recall': 0.9749036656456872}"
      ]
     },
     "execution_count": 25,
     "metadata": {},
     "output_type": "execute_result"
    }
   ],
   "source": [
    "# training metrics\n",
    "preds = clf.predict(train_df[train_df.columns[:-1]])\n",
    "compute_metrics(preds, train_df['label'])"
   ]
  },
  {
   "cell_type": "code",
   "execution_count": null,
   "id": "fdcaffd3",
   "metadata": {},
   "outputs": [
    {
     "data": {
      "text/plain": [
       "{'accuracy': 0.9772802984875741,\n",
       " 'f1': 0.9745996275605214,\n",
       " 'precision': 0.9797813389246668,\n",
       " 'recall': 0.9694724362774155}"
      ]
     },
     "execution_count": 26,
     "metadata": {},
     "output_type": "execute_result"
    }
   ],
   "source": [
    "# test metrics\n",
    "preds = clf.predict(test_df[test_df.columns[:-1]])\n",
    "compute_metrics(preds, test_df['label'])\n",
    "# with just 91 features the model is still extremely good."
   ]
  },
  {
   "cell_type": "code",
   "execution_count": 32,
   "id": "29509b97",
   "metadata": {},
   "outputs": [],
   "source": [
    "# does it generalize? is the performance too good to be true? If it's terrible on an entirely new dataset, I've likely done something wrong.\n",
    "\n",
    "new_dataset = pd.read_csv('WELFake_Dataset.csv').dropna()"
   ]
  },
  {
   "cell_type": "code",
   "execution_count": 33,
   "id": "8d2dc018",
   "metadata": {},
   "outputs": [
    {
     "data": {
      "text/html": [
       "<div>\n",
       "<style scoped>\n",
       "    .dataframe tbody tr th:only-of-type {\n",
       "        vertical-align: middle;\n",
       "    }\n",
       "\n",
       "    .dataframe tbody tr th {\n",
       "        vertical-align: top;\n",
       "    }\n",
       "\n",
       "    .dataframe thead th {\n",
       "        text-align: right;\n",
       "    }\n",
       "</style>\n",
       "<table border=\"1\" class=\"dataframe\">\n",
       "  <thead>\n",
       "    <tr style=\"text-align: right;\">\n",
       "      <th></th>\n",
       "      <th>Unnamed: 0</th>\n",
       "      <th>title</th>\n",
       "      <th>text</th>\n",
       "      <th>label</th>\n",
       "    </tr>\n",
       "  </thead>\n",
       "  <tbody>\n",
       "    <tr>\n",
       "      <th>0</th>\n",
       "      <td>0</td>\n",
       "      <td>LAW ENFORCEMENT ON HIGH ALERT Following Threat...</td>\n",
       "      <td>No comment is expected from Barack Obama Membe...</td>\n",
       "      <td>1</td>\n",
       "    </tr>\n",
       "    <tr>\n",
       "      <th>2</th>\n",
       "      <td>2</td>\n",
       "      <td>UNBELIEVABLE! OBAMA’S ATTORNEY GENERAL SAYS MO...</td>\n",
       "      <td>Now, most of the demonstrators gathered last ...</td>\n",
       "      <td>1</td>\n",
       "    </tr>\n",
       "    <tr>\n",
       "      <th>3</th>\n",
       "      <td>3</td>\n",
       "      <td>Bobby Jindal, raised Hindu, uses story of Chri...</td>\n",
       "      <td>A dozen politically active pastors came here f...</td>\n",
       "      <td>0</td>\n",
       "    </tr>\n",
       "    <tr>\n",
       "      <th>4</th>\n",
       "      <td>4</td>\n",
       "      <td>SATAN 2: Russia unvelis an image of its terrif...</td>\n",
       "      <td>The RS-28 Sarmat missile, dubbed Satan 2, will...</td>\n",
       "      <td>1</td>\n",
       "    </tr>\n",
       "    <tr>\n",
       "      <th>5</th>\n",
       "      <td>5</td>\n",
       "      <td>About Time! Christian Group Sues Amazon and SP...</td>\n",
       "      <td>All we can say on this one is it s about time ...</td>\n",
       "      <td>1</td>\n",
       "    </tr>\n",
       "    <tr>\n",
       "      <th>...</th>\n",
       "      <td>...</td>\n",
       "      <td>...</td>\n",
       "      <td>...</td>\n",
       "      <td>...</td>\n",
       "    </tr>\n",
       "    <tr>\n",
       "      <th>72129</th>\n",
       "      <td>72129</td>\n",
       "      <td>Russians steal research on Trump in hack of U....</td>\n",
       "      <td>WASHINGTON (Reuters) - Hackers believed to be ...</td>\n",
       "      <td>0</td>\n",
       "    </tr>\n",
       "    <tr>\n",
       "      <th>72130</th>\n",
       "      <td>72130</td>\n",
       "      <td>WATCH: Giuliani Demands That Democrats Apolog...</td>\n",
       "      <td>You know, because in fantasyland Republicans n...</td>\n",
       "      <td>1</td>\n",
       "    </tr>\n",
       "    <tr>\n",
       "      <th>72131</th>\n",
       "      <td>72131</td>\n",
       "      <td>Migrants Refuse To Leave Train At Refugee Camp...</td>\n",
       "      <td>Migrants Refuse To Leave Train At Refugee Camp...</td>\n",
       "      <td>0</td>\n",
       "    </tr>\n",
       "    <tr>\n",
       "      <th>72132</th>\n",
       "      <td>72132</td>\n",
       "      <td>Trump tussle gives unpopular Mexican leader mu...</td>\n",
       "      <td>MEXICO CITY (Reuters) - Donald Trump’s combati...</td>\n",
       "      <td>0</td>\n",
       "    </tr>\n",
       "    <tr>\n",
       "      <th>72133</th>\n",
       "      <td>72133</td>\n",
       "      <td>Goldman Sachs Endorses Hillary Clinton For Pre...</td>\n",
       "      <td>Goldman Sachs Endorses Hillary Clinton For Pre...</td>\n",
       "      <td>1</td>\n",
       "    </tr>\n",
       "  </tbody>\n",
       "</table>\n",
       "<p>71537 rows × 4 columns</p>\n",
       "</div>"
      ],
      "text/plain": [
       "       Unnamed: 0                                              title  \\\n",
       "0               0  LAW ENFORCEMENT ON HIGH ALERT Following Threat...   \n",
       "2               2  UNBELIEVABLE! OBAMA’S ATTORNEY GENERAL SAYS MO...   \n",
       "3               3  Bobby Jindal, raised Hindu, uses story of Chri...   \n",
       "4               4  SATAN 2: Russia unvelis an image of its terrif...   \n",
       "5               5  About Time! Christian Group Sues Amazon and SP...   \n",
       "...           ...                                                ...   \n",
       "72129       72129  Russians steal research on Trump in hack of U....   \n",
       "72130       72130   WATCH: Giuliani Demands That Democrats Apolog...   \n",
       "72131       72131  Migrants Refuse To Leave Train At Refugee Camp...   \n",
       "72132       72132  Trump tussle gives unpopular Mexican leader mu...   \n",
       "72133       72133  Goldman Sachs Endorses Hillary Clinton For Pre...   \n",
       "\n",
       "                                                    text  label  \n",
       "0      No comment is expected from Barack Obama Membe...      1  \n",
       "2       Now, most of the demonstrators gathered last ...      1  \n",
       "3      A dozen politically active pastors came here f...      0  \n",
       "4      The RS-28 Sarmat missile, dubbed Satan 2, will...      1  \n",
       "5      All we can say on this one is it s about time ...      1  \n",
       "...                                                  ...    ...  \n",
       "72129  WASHINGTON (Reuters) - Hackers believed to be ...      0  \n",
       "72130  You know, because in fantasyland Republicans n...      1  \n",
       "72131  Migrants Refuse To Leave Train At Refugee Camp...      0  \n",
       "72132  MEXICO CITY (Reuters) - Donald Trump’s combati...      0  \n",
       "72133  Goldman Sachs Endorses Hillary Clinton For Pre...      1  \n",
       "\n",
       "[71537 rows x 4 columns]"
      ]
     },
     "execution_count": 33,
     "metadata": {},
     "output_type": "execute_result"
    }
   ],
   "source": [
    "new_dataset"
   ]
  },
  {
   "cell_type": "code",
   "execution_count": 34,
   "id": "f263f4f3",
   "metadata": {},
   "outputs": [],
   "source": [
    "new_features = np.hstack([title_vectorizer.transform(new_dataset['title']).todense(), doc_vectorizer.transform(new_dataset['text']).todense()])"
   ]
  },
  {
   "cell_type": "code",
   "execution_count": null,
   "id": "386f3fe1",
   "metadata": {},
   "outputs": [
    {
     "data": {
      "text/plain": [
       "{'accuracy': 0.8252233110138809,\n",
       " 'f1': 0.8385397161563594,\n",
       " 'precision': 0.7932711102423768,\n",
       " 'recall': 0.8892875729272234}"
      ]
     },
     "execution_count": 36,
     "metadata": {},
     "output_type": "execute_result"
    }
   ],
   "source": [
    "preds = clf.predict(np.array(new_features))\n",
    "compute_metrics(preds, new_dataset['label'])\n",
    "# the metrics now look more realistic. We have some degree of overfitting, but the model does generalize reasonably well"
   ]
  },
  {
   "cell_type": "markdown",
   "id": "e7bfd341",
   "metadata": {},
   "source": [
    "### There a few things I can do with the remaining time:\n",
    "I could re-run everithing with more data from varied datasets in order to generalize better, however I have already demonstrated that I can do this with the original dataset. Instead I think I should do some stratified metrics in order to show that I understand how, even if the instructions and the provided dataset are contradictory."
   ]
  },
  {
   "cell_type": "code",
   "execution_count": 43,
   "id": "b4eb720d",
   "metadata": {},
   "outputs": [
    {
     "data": {
      "text/plain": [
       "array(['politicsNews', 'worldnews'], dtype=object)"
      ]
     },
     "execution_count": 43,
     "metadata": {},
     "output_type": "execute_result"
    }
   ],
   "source": [
    "real_df['subject'].unique()"
   ]
  },
  {
   "cell_type": "code",
   "execution_count": 44,
   "id": "c392a13e",
   "metadata": {},
   "outputs": [],
   "source": [
    "# first make the domains consistent (the mapping is a bit arbitrary. is Government News politics or news?)\n",
    "sub_map = {'US_News': 'news', 'left-news': 'politics', 'Government News': 'news', 'News': 'news', 'politics': 'politics'}\n",
    "fake_df['subject'] = fake_df['subject'].apply(lambda x: sub_map[x])"
   ]
  },
  {
   "cell_type": "code",
   "execution_count": 46,
   "id": "a4cc9c11",
   "metadata": {},
   "outputs": [],
   "source": [
    "sub_map = {'worldnews': 'news', 'politicsNews': 'politics'}\n",
    "real_df['subject'] = real_df['subject'].apply(lambda x: sub_map[x])"
   ]
  },
  {
   "cell_type": "code",
   "execution_count": 52,
   "id": "dcaab0fb",
   "metadata": {},
   "outputs": [
    {
     "name": "stdout",
     "output_type": "stream",
     "text": [
      "Domain: news {'accuracy': 0.9768154563624251, 'f1': 0.9740608228980322, 'precision': 0.9799040191961608, 'recall': 0.9682868998221695}\n",
      "label distribution (for chance level accuracy): 0.5504117694091308\n",
      "Domain: politics {'accuracy': 0.9768154563624251, 'f1': 0.9740608228980322, 'precision': 0.9799040191961608, 'recall': 0.9682868998221695}\n",
      "label distribution (for chance level accuracy): 0.5504117694091308\n"
     ]
    }
   ],
   "source": [
    "for domain in ['news', 'politics']:\n",
    "    fake_df_strat = fake_df[fake_df['subject']==domain]\n",
    "    real_df_strat = real_df[real_df['subject']==domain]\n",
    "\n",
    "    fake_docs, real_docs = fake_df_strat['text'].to_list(), real_df_strat['text'].to_list()\n",
    "    doc_vectorizer = TfidfVectorizer(vocabulary=doc_words)\n",
    "    docs_tf_idf = doc_vectorizer.fit_transform(fake_docs + real_docs)\n",
    "\n",
    "    fake_titles, real_titles = fake_df_strat['title'].to_list(), real_df_strat['title'].to_list()\n",
    "    title_vectorizer = TfidfVectorizer(vocabulary=title_words)\n",
    "    titles_tf_idf = title_vectorizer.fit_transform(fake_titles + real_titles)\n",
    "\n",
    "\n",
    "    df = pd.DataFrame(features)\n",
    "    df['label'] = labels\n",
    "    train_df, test_df = train_test_split(df, test_size=0.2, random_state=421, stratify=df['label']) # increse the training proportion as we have less data in each strata\n",
    "\n",
    "\n",
    "    preds = clf.predict(test_df[test_df.columns[:-1]])\n",
    "    print('Domain:', domain, compute_metrics(preds, test_df['label']))\n",
    "    print('chance level accuracy:', 1 - sum(df['label'])/len(df['label']))"
   ]
  },
  {
   "cell_type": "markdown",
   "id": "0671ff6f",
   "metadata": {},
   "source": [
    "There's an issue with the stratified metrics but I've no time to look into it.\n",
    "\n",
    "Given time, I would also like to:\n",
    " - clean up file structure, and plots/presentation\n",
    " - refactor my scripts into a proper model pipeline"
   ]
  }
 ],
 "metadata": {
  "kernelspec": {
   "display_name": ".env",
   "language": "python",
   "name": "python3"
  },
  "language_info": {
   "codemirror_mode": {
    "name": "ipython",
    "version": 3
   },
   "file_extension": ".py",
   "mimetype": "text/x-python",
   "name": "python",
   "nbconvert_exporter": "python",
   "pygments_lexer": "ipython3",
   "version": "3.10.12"
  }
 },
 "nbformat": 4,
 "nbformat_minor": 5
}
